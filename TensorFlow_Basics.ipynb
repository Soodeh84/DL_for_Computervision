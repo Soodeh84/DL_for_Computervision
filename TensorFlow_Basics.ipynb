{
  "nbformat": 4,
  "nbformat_minor": 0,
  "metadata": {
    "colab": {
      "provenance": [],
      "toc_visible": true,
      "authorship_tag": "ABX9TyNBPudE40kPtuOcwNn3wWK+",
      "include_colab_link": true
    },
    "kernelspec": {
      "name": "python3",
      "display_name": "Python 3"
    },
    "language_info": {
      "name": "python"
    }
  },
  "cells": [
    {
      "cell_type": "markdown",
      "metadata": {
        "id": "view-in-github",
        "colab_type": "text"
      },
      "source": [
        "<a href=\"https://colab.research.google.com/github/Soodeh84/DL_for_Computervision/blob/main/TensorFlow_Basics.ipynb\" target=\"_parent\"><img src=\"https://colab.research.google.com/assets/colab-badge.svg\" alt=\"Open In Colab\"/></a>"
      ]
    },
    {
      "cell_type": "code",
      "source": [
        "import tensorflow as tf\n",
        "import numpy as np"
      ],
      "metadata": {
        "id": "3srZT8RVD0px"
      },
      "execution_count": null,
      "outputs": []
    },
    {
      "cell_type": "markdown",
      "source": [
        "# 1. Create 0D, 1D, 2D, 3D,...,nD tensors\n"
      ],
      "metadata": {
        "id": "sJEhYbrXEMxB"
      }
    },
    {
      "cell_type": "code",
      "source": [
        "zeroD_tensor = tf.constant(7)\n",
        "print(zeroD_tensor)"
      ],
      "metadata": {
        "colab": {
          "base_uri": "https://localhost:8080/"
        },
        "id": "nFj6jm4CES3w",
        "outputId": "956611a9-6dd9-4d47-d89a-ebdee60ad4a9"
      },
      "execution_count": null,
      "outputs": [
        {
          "output_type": "stream",
          "name": "stdout",
          "text": [
            "tf.Tensor(7, shape=(), dtype=int32)\n"
          ]
        }
      ]
    },
    {
      "cell_type": "code",
      "source": [
        "oneD_tensor = tf.constant([2,4,8])\n",
        "print(oneD_tensor)\n",
        "oneD_tensor_float = tf.constant([2,4,8, 5.9])\n",
        "print(oneD_tensor_float)"
      ],
      "metadata": {
        "colab": {
          "base_uri": "https://localhost:8080/"
        },
        "id": "ktUyf2T_Fi-p",
        "outputId": "50478c48-17a9-47bd-9c8b-d811814dbc39"
      },
      "execution_count": null,
      "outputs": [
        {
          "output_type": "stream",
          "name": "stdout",
          "text": [
            "tf.Tensor([2 4 8], shape=(3,), dtype=int32)\n",
            "tf.Tensor([2.  4.  8.  5.9], shape=(4,), dtype=float32)\n"
          ]
        }
      ]
    },
    {
      "cell_type": "code",
      "source": [
        "twoD_tensor = tf.constant([\n",
        "    [2, 3],\n",
        "    [4, 5],\n",
        "    [6, 7]\n",
        "])\n",
        "print(twoD_tensor)"
      ],
      "metadata": {
        "colab": {
          "base_uri": "https://localhost:8080/"
        },
        "id": "ROdbgIstIp-T",
        "outputId": "ea4283a1-a391-4ede-8d07-83da22a75c96"
      },
      "execution_count": null,
      "outputs": [
        {
          "output_type": "stream",
          "name": "stdout",
          "text": [
            "tf.Tensor(\n",
            "[[2 3]\n",
            " [4 5]\n",
            " [6 7]], shape=(3, 2), dtype=int32)\n"
          ]
        }
      ]
    },
    {
      "cell_type": "code",
      "source": [
        "threeD_tensor = tf.constant([\n",
        "    [\n",
        "        [2, 3, 1],\n",
        "        [4, 5, 1],\n",
        "        [6, 7, 1],\n",
        "        [1, 1, 1]\n",
        "    ],\n",
        "    [\n",
        "        [2, 3, 2],\n",
        "        [4, 5, 2],\n",
        "        [6, 7, 2],\n",
        "        [2, 2, 2]\n",
        "    ],\n",
        "    [\n",
        "        [2, 3, 3],\n",
        "        [4, 5, 3],\n",
        "        [6, 7, 3],\n",
        "        [3, 3, 3]\n",
        "    ],\n",
        "    [\n",
        "        [2, 3, 4],\n",
        "        [4, 5, 4],\n",
        "        [6, 7, 4],\n",
        "        [4, 4, 4]\n",
        "    ],\n",
        "     [\n",
        "        [2, 3, 5],\n",
        "        [4, 5, 5],\n",
        "        [6, 7, 5],\n",
        "        [5, 5, 5]\n",
        "    ]\n",
        "])\n",
        "print(threeD_tensor)"
      ],
      "metadata": {
        "colab": {
          "base_uri": "https://localhost:8080/"
        },
        "id": "nHPhae5dItWW",
        "outputId": "a5136488-579d-4e5b-f9a2-67b1c171cf70"
      },
      "execution_count": null,
      "outputs": [
        {
          "output_type": "stream",
          "name": "stdout",
          "text": [
            "tf.Tensor(\n",
            "[[[2 3 1]\n",
            "  [4 5 1]\n",
            "  [6 7 1]\n",
            "  [1 1 1]]\n",
            "\n",
            " [[2 3 2]\n",
            "  [4 5 2]\n",
            "  [6 7 2]\n",
            "  [2 2 2]]\n",
            "\n",
            " [[2 3 3]\n",
            "  [4 5 3]\n",
            "  [6 7 3]\n",
            "  [3 3 3]]\n",
            "\n",
            " [[2 3 4]\n",
            "  [4 5 4]\n",
            "  [6 7 4]\n",
            "  [4 4 4]]\n",
            "\n",
            " [[2 3 5]\n",
            "  [4 5 5]\n",
            "  [6 7 5]\n",
            "  [5 5 5]]], shape=(5, 4, 3), dtype=int32)\n"
          ]
        }
      ]
    },
    {
      "cell_type": "code",
      "source": [
        "fourD_tensor = tf.constant([\n",
        "    [[[1, 2, 1], [3, 4, 2]],\n",
        "    [[5, 6, 3], [7, 8, 4]]],\n",
        "    [[[1, 2, 5], [3, 4, 6]],\n",
        "    [[5, 6, 7], [7, 8, 8]]],\n",
        "    [[[1, 2, 9], [3, 4, 0]],\n",
        "    [[5, 6, 1], [7, 8, 2]]]\n",
        "    ])\n",
        "print(fourD_tensor)"
      ],
      "metadata": {
        "colab": {
          "base_uri": "https://localhost:8080/"
        },
        "id": "Gf18rcBgLUrH",
        "outputId": "bc03c2a4-09ab-4e16-a1cd-5dae5b64969d"
      },
      "execution_count": null,
      "outputs": [
        {
          "output_type": "stream",
          "name": "stdout",
          "text": [
            "tf.Tensor(\n",
            "[[[[1 2 1]\n",
            "   [3 4 2]]\n",
            "\n",
            "  [[5 6 3]\n",
            "   [7 8 4]]]\n",
            "\n",
            "\n",
            " [[[1 2 5]\n",
            "   [3 4 6]]\n",
            "\n",
            "  [[5 6 7]\n",
            "   [7 8 8]]]\n",
            "\n",
            "\n",
            " [[[1 2 9]\n",
            "   [3 4 0]]\n",
            "\n",
            "  [[5 6 1]\n",
            "   [7 8 2]]]], shape=(3, 2, 2, 3), dtype=int32)\n"
          ]
        }
      ]
    },
    {
      "cell_type": "code",
      "source": [
        "print(fourD_tensor.ndim)"
      ],
      "metadata": {
        "colab": {
          "base_uri": "https://localhost:8080/"
        },
        "id": "Bfc6A3P1Ne8T",
        "outputId": "93eb71f4-82e1-4763-c239-f37db30ae20d"
      },
      "execution_count": null,
      "outputs": [
        {
          "output_type": "stream",
          "name": "stdout",
          "text": [
            "4\n"
          ]
        }
      ]
    },
    {
      "cell_type": "code",
      "source": [
        "print(fourD_tensor.shape)"
      ],
      "metadata": {
        "colab": {
          "base_uri": "https://localhost:8080/"
        },
        "id": "kuHbgk6NN4ot",
        "outputId": "2b77da92-a89f-4fea-8dc0-90b34432927d"
      },
      "execution_count": null,
      "outputs": [
        {
          "output_type": "stream",
          "name": "stdout",
          "text": [
            "(3, 2, 2, 3)\n"
          ]
        }
      ]
    },
    {
      "cell_type": "markdown",
      "source": [
        "#2. Tensoe data types"
      ],
      "metadata": {
        "id": "ICdhSjLhROaw"
      }
    },
    {
      "cell_type": "code",
      "source": [
        "casting_tensor_type = tf.cast(oneD_tensor_float, dtype=tf.int16)\n",
        "print(casting_tensor_type)"
      ],
      "metadata": {
        "colab": {
          "base_uri": "https://localhost:8080/"
        },
        "id": "dsPjkPdZPr_v",
        "outputId": "4089d5d0-29fa-4168-8495-86924a0bebe8"
      },
      "execution_count": null,
      "outputs": [
        {
          "output_type": "stream",
          "name": "stdout",
          "text": [
            "tf.Tensor([2 4 8 5], shape=(4,), dtype=int16)\n"
          ]
        }
      ]
    },
    {
      "cell_type": "code",
      "source": [
        "tensor_bool_type = tf.constant([False, True, True, False])\n",
        "print(tensor_bool_type)"
      ],
      "metadata": {
        "colab": {
          "base_uri": "https://localhost:8080/"
        },
        "id": "L5aJr_cuSCj3",
        "outputId": "4b66da05-e660-48ac-d91d-7489c31fbf97"
      },
      "execution_count": null,
      "outputs": [
        {
          "output_type": "stream",
          "name": "stdout",
          "text": [
            "tf.Tensor([False  True  True False], shape=(4,), dtype=bool)\n"
          ]
        }
      ]
    },
    {
      "cell_type": "code",
      "source": [
        "casting_tensor_type = tf.cast(tensor_bool_type, dtype=tf.int16)\n",
        "print(casting_tensor_type)"
      ],
      "metadata": {
        "colab": {
          "base_uri": "https://localhost:8080/"
        },
        "id": "tRCBrh21SmQU",
        "outputId": "9444f69b-0957-44ee-9bd7-ca371db2f284"
      },
      "execution_count": null,
      "outputs": [
        {
          "output_type": "stream",
          "name": "stdout",
          "text": [
            "tf.Tensor([0 1 1 0], shape=(4,), dtype=int16)\n"
          ]
        }
      ]
    },
    {
      "cell_type": "code",
      "source": [
        "tensor_string = tf.constant([\"Hello\", \"World\", \"!\"])\n",
        "print(tensor_string)"
      ],
      "metadata": {
        "colab": {
          "base_uri": "https://localhost:8080/"
        },
        "id": "r3XkgGd_qOR4",
        "outputId": "d310e52b-e0da-4add-8de5-b9549caee76c"
      },
      "execution_count": null,
      "outputs": [
        {
          "output_type": "stream",
          "name": "stdout",
          "text": [
            "tf.Tensor([b'Hello' b'World' b'!'], shape=(3,), dtype=string)\n"
          ]
        }
      ]
    },
    {
      "cell_type": "markdown",
      "source": [
        "#3. convert **numpy** to **tensor**"
      ],
      "metadata": {
        "id": "e-QP6xyCrAhB"
      }
    },
    {
      "cell_type": "code",
      "source": [
        "oneD_np_array = np.array([0,1,4,8])\n",
        "print(oneD_np_array)"
      ],
      "metadata": {
        "colab": {
          "base_uri": "https://localhost:8080/"
        },
        "id": "i8sw2VCvrMov",
        "outputId": "b8105280-d3d4-423a-885e-5ec0b278fadd"
      },
      "execution_count": null,
      "outputs": [
        {
          "output_type": "stream",
          "name": "stdout",
          "text": [
            "[0 1 4 8]\n"
          ]
        }
      ]
    },
    {
      "cell_type": "code",
      "source": [
        "convert_np_to_tf = tf.convert_to_tensor(oneD_np_array)\n",
        "print(convert_np_to_tf)"
      ],
      "metadata": {
        "colab": {
          "base_uri": "https://localhost:8080/"
        },
        "id": "msXHV8Syr0dx",
        "outputId": "3c2350a0-83ab-45bb-d2f6-4855a6423d66"
      },
      "execution_count": null,
      "outputs": [
        {
          "output_type": "stream",
          "name": "stdout",
          "text": [
            "tf.Tensor([0 1 4 8], shape=(4,), dtype=int64)\n"
          ]
        }
      ]
    },
    {
      "cell_type": "markdown",
      "source": [
        "*Note*: *check tensorFlow documentation for useful methods*\n",
        "[TensorFlow methods](https://www.tensorflow.org/api_docs/python/tf/eye)"
      ],
      "metadata": {
        "id": "asTJ5iP0wiAa"
      }
    },
    {
      "cell_type": "markdown",
      "source": [
        "#4. tf.random: **Normal** & **Uniform** distributions"
      ],
      "metadata": {
        "id": "yvS-4bG_APEE"
      }
    },
    {
      "cell_type": "code",
      "source": [
        "random_tensor = tf.random.normal(\n",
        "    [2,3], #shape\n",
        "    mean=50.0,\n",
        "    stddev=0.05,\n",
        "    dtype=tf.dtypes.float32,\n",
        "    seed=None,\n",
        "    name=None\n",
        ")\n",
        "print(random_tensor)"
      ],
      "metadata": {
        "colab": {
          "base_uri": "https://localhost:8080/"
        },
        "id": "5lKT2xh1w9KD",
        "outputId": "06ddd403-2e79-49ff-8f9f-fb0e2dc06dd1"
      },
      "execution_count": null,
      "outputs": [
        {
          "output_type": "stream",
          "name": "stdout",
          "text": [
            "tf.Tensor(\n",
            "[[49.95727  49.944847 50.017918]\n",
            " [49.923416 50.01399  50.02085 ]], shape=(2, 3), dtype=float32)\n"
          ]
        }
      ]
    },
    {
      "cell_type": "code",
      "source": [
        "tensor_uniform = tf.random.uniform(\n",
        "    [3, 2],\n",
        "    minval=-20,\n",
        "    maxval=10,\n",
        "    dtype=tf.dtypes.float32,\n",
        "    seed=None,\n",
        "    name=None\n",
        ")\n",
        "print(tensor_uniform)"
      ],
      "metadata": {
        "colab": {
          "base_uri": "https://localhost:8080/"
        },
        "id": "M7Xt4gCaE_0d",
        "outputId": "68e8b044-0bc6-42ac-9005-e9ab14f9e8dc"
      },
      "execution_count": null,
      "outputs": [
        {
          "output_type": "stream",
          "name": "stdout",
          "text": [
            "tf.Tensor(\n",
            "[[  5.2065887 -18.306822 ]\n",
            " [ -9.039429  -11.463623 ]\n",
            " [  9.677984    8.409328 ]], shape=(3, 2), dtype=float32)\n"
          ]
        }
      ]
    },
    {
      "cell_type": "markdown",
      "source": [
        "#5. Tensor indexing"
      ],
      "metadata": {
        "id": "SaVgwPnXFyx7"
      }
    },
    {
      "cell_type": "code",
      "source": [
        "indexed_tensor = tf.constant([1,6, 40, 55, 3, 90, 2, 50])\n",
        "print(indexed_tensor)\n",
        "print(indexed_tensor[0:3]) #0 indexed element till 3rd element\n",
        "print(indexed_tensor[1:3]) #1 indexed element till 3rd element\n",
        "print(indexed_tensor[1:3+1]) #1 indexed element till 4th element\n",
        "print(indexed_tensor[0:8:2]) #all elements with the steps of 2\n",
        "print(indexed_tensor[3:]) #3 indexed element till the end\n",
        "print(indexed_tensor[:3]) #0 indexed element till 3rd element\n",
        "print(indexed_tensor[3:-1]) #3 indexed element till the max.element - 1\n"
      ],
      "metadata": {
        "colab": {
          "base_uri": "https://localhost:8080/"
        },
        "id": "eEBIV2kUF98p",
        "outputId": "6e7b769e-4020-4141-9de4-68e306873a8f"
      },
      "execution_count": null,
      "outputs": [
        {
          "output_type": "stream",
          "name": "stdout",
          "text": [
            "tf.Tensor([ 1  6 40 55  3 90  2 50], shape=(8,), dtype=int32)\n",
            "tf.Tensor([ 1  6 40], shape=(3,), dtype=int32)\n",
            "tf.Tensor([ 6 40], shape=(2,), dtype=int32)\n",
            "tf.Tensor([ 6 40 55], shape=(3,), dtype=int32)\n",
            "tf.Tensor([ 1 40  3  2], shape=(4,), dtype=int32)\n",
            "tf.Tensor([55  3 90  2 50], shape=(5,), dtype=int32)\n",
            "tf.Tensor([ 1  6 40], shape=(3,), dtype=int32)\n",
            "tf.Tensor([55  3 90  2], shape=(4,), dtype=int32)\n"
          ]
        }
      ]
    },
    {
      "cell_type": "code",
      "source": [
        "twoD_indexing = tf.constant([\n",
        "    [1, 2, 3, 4],\n",
        "    [5, 6, 7, 8],\n",
        "    [9, 0, 1, 2],\n",
        "    [3, 4, 5, 6]\n",
        "])\n",
        "#print(twoD_indexing)\n",
        "#print(twoD_indexing[0:2, 0:3]) #[rows , columns]\n",
        "print(twoD_indexing[2:3, :]) #get the 3rd row which has index 2!\n",
        "print(twoD_indexing[..., 1:2]) #get the 2nd column that has index 1!"
      ],
      "metadata": {
        "colab": {
          "base_uri": "https://localhost:8080/"
        },
        "id": "6y6P4ZzMVG_O",
        "outputId": "340895fd-1cd3-4fca-debf-4f6bf7938382"
      },
      "execution_count": null,
      "outputs": [
        {
          "output_type": "stream",
          "name": "stdout",
          "text": [
            "tf.Tensor([[9 0 1 2]], shape=(1, 4), dtype=int32)\n",
            "tf.Tensor(\n",
            "[[2]\n",
            " [6]\n",
            " [0]\n",
            " [4]], shape=(4, 1), dtype=int32)\n"
          ]
        }
      ]
    },
    {
      "cell_type": "code",
      "source": [
        "threeD_indexing = tf.constant([\n",
        "    [\n",
        "       [1,2,3],\n",
        "       [4,5,6]\n",
        "    ],\n",
        "    [\n",
        "        [7,8,9],\n",
        "        [0,1,2]\n",
        "    ]\n",
        "])\n",
        "#print(threeD_indexing)\n",
        "print(threeD_indexing[0 , : , 2:3]) #a: get from the 1st 2D matrix all elements in the last column -> 2D\n",
        "#print(threeD_indexing[0 , : , 2:3].ndim)\n",
        "#print(threeD_indexing[0 , : , 2:])  #b: same as a -> 2D\n",
        "print(threeD_indexing[0 , : , -1])  #c: same result but in a row format -> 1D\n",
        "#print(threeD_indexing[0 , : , -1].ndim)\n",
        "#print(threeD_indexing[0 , ... , 2])   #d: same as c -> 1D"
      ],
      "metadata": {
        "colab": {
          "base_uri": "https://localhost:8080/"
        },
        "id": "marSa2bQVjmt",
        "outputId": "d2824f92-dc18-4f2d-987f-ff042248a12d"
      },
      "execution_count": null,
      "outputs": [
        {
          "output_type": "stream",
          "name": "stdout",
          "text": [
            "tf.Tensor(\n",
            "[[3]\n",
            " [6]], shape=(2, 1), dtype=int32)\n",
            "tf.Tensor([3 6], shape=(2,), dtype=int32)\n"
          ]
        }
      ]
    },
    {
      "cell_type": "markdown",
      "source": [
        "#6. **Math** operations with Tensorflow\n",
        "[tf.math](https://www.tensorflow.org/api_docs/python/tf/math)"
      ],
      "metadata": {
        "id": "2W6s9ZPofWeF"
      }
    },
    {
      "cell_type": "code",
      "source": [
        "#math.argmax and math.argmin return the position index of the max and min elements\n",
        "argMaxMin_v1 = tf.constant([2, 5, 10, 9, 11])\n",
        "print(tf.math.argmax(argMaxMin_v1))\n",
        "print(tf.math.argmin(argMaxMin_v1))"
      ],
      "metadata": {
        "colab": {
          "base_uri": "https://localhost:8080/"
        },
        "id": "trpkgUAlfgSw",
        "outputId": "dada24e1-a747-43fb-fcf1-2c8140cebcff"
      },
      "execution_count": null,
      "outputs": [
        {
          "output_type": "stream",
          "name": "stdout",
          "text": [
            "tf.Tensor(4, shape=(), dtype=int64)\n",
            "tf.Tensor(0, shape=(), dtype=int64)\n"
          ]
        }
      ]
    },
    {
      "cell_type": "code",
      "source": [
        "print(twoD_indexing)\n",
        "#make comparisons column by column and give the index of the max/min value!\n",
        "#with default axis as 0\n",
        "print(tf.math.argmax(twoD_indexing))\n",
        "print(tf.math.argmin(twoD_indexing, 0))\n",
        "#make comparisons row by row and give the index of the max/min value!\n",
        "#with axis 1\n",
        "print(tf.math.argmax(twoD_indexing, 1))\n",
        "print(tf.math.argmin(twoD_indexing, 1))"
      ],
      "metadata": {
        "colab": {
          "base_uri": "https://localhost:8080/"
        },
        "id": "pc0eMJIfheZQ",
        "outputId": "26b0bbaa-9cef-4239-cc35-b040ec4899cb"
      },
      "execution_count": null,
      "outputs": [
        {
          "output_type": "stream",
          "name": "stdout",
          "text": [
            "tf.Tensor(\n",
            "[[1 2 3 4]\n",
            " [5 6 7 8]\n",
            " [9 0 1 2]\n",
            " [3 4 5 6]], shape=(4, 4), dtype=int32)\n",
            "tf.Tensor([2 1 1 1], shape=(4,), dtype=int64)\n",
            "tf.Tensor([0 2 2 2], shape=(4,), dtype=int64)\n",
            "tf.Tensor([3 3 0 3], shape=(4,), dtype=int64)\n",
            "tf.Tensor([0 0 1 0], shape=(4,), dtype=int64)\n"
          ]
        }
      ]
    },
    {
      "cell_type": "markdown",
      "source": [
        "#7. Linear Algebra operations\n",
        "[tf.linalg](https://www.tensorflow.org/api_docs/python/tf/linalg)"
      ],
      "metadata": {
        "id": "jBVnvEdy5EC1"
      }
    },
    {
      "cell_type": "code",
      "source": [
        "#matrix multiplications : tf.linalg.matmul\n",
        "#note: for matrix multiplication number of coulumns of the first operand must\n",
        "#be equal to the number of rows of the second operand\n",
        "v1 = tf.constant([\n",
        "    [1, 2, 3],\n",
        "    [4, 5, 6],\n",
        "    [1, 1, 0]\n",
        "])\n",
        "v2 = tf.constant([\n",
        "    [9, 0, 1],\n",
        "    [2, 3, 2],\n",
        "    [1, 4, 3]\n",
        "])\n",
        "tf.linalg.matmul(\n",
        "    v1,\n",
        "    v2,\n",
        "    transpose_a=False,\n",
        "    transpose_b=False,\n",
        "    adjoint_a=False,\n",
        "    adjoint_b=False,\n",
        "    a_is_sparse=False,\n",
        "    b_is_sparse=False,\n",
        "    output_type=None,\n",
        "    name=None\n",
        ")\n"
      ],
      "metadata": {
        "colab": {
          "base_uri": "https://localhost:8080/"
        },
        "id": "4eZiovim5H7d",
        "outputId": "ff86d3a7-8ac0-4dd5-c0e2-8f107638ebcc"
      },
      "execution_count": null,
      "outputs": [
        {
          "output_type": "execute_result",
          "data": {
            "text/plain": [
              "<tf.Tensor: shape=(3, 3), dtype=int32, numpy=\n",
              "array([[16, 18, 14],\n",
              "       [52, 39, 32],\n",
              "       [11,  3,  3]], dtype=int32)>"
            ]
          },
          "metadata": {},
          "execution_count": 2
        }
      ]
    },
    {
      "cell_type": "code",
      "source": [
        "# v1 @ v2 -> matrix multiplication, while v1 * v2 is elemntwise multiplication\n",
        "print(v1 @ v2 )\n",
        "print(v1 * v2 )"
      ],
      "metadata": {
        "colab": {
          "base_uri": "https://localhost:8080/"
        },
        "id": "9Xv_hIgN8xih",
        "outputId": "d67ef99e-8d05-4d55-c655-b271dc685130"
      },
      "execution_count": null,
      "outputs": [
        {
          "output_type": "stream",
          "name": "stdout",
          "text": [
            "tf.Tensor(\n",
            "[[16 18 14]\n",
            " [52 39 32]\n",
            " [11  3  3]], shape=(3, 3), dtype=int32)\n",
            "tf.Tensor(\n",
            "[[ 9  0  3]\n",
            " [ 8 15 12]\n",
            " [ 1  4  0]], shape=(3, 3), dtype=int32)\n"
          ]
        }
      ]
    },
    {
      "cell_type": "code",
      "source": [
        "#matrix transpose\n",
        "tf.transpose(v1)"
      ],
      "metadata": {
        "colab": {
          "base_uri": "https://localhost:8080/"
        },
        "id": "w0XBi3WN-NA9",
        "outputId": "ffc8ae02-11fd-42c9-f463-a1aa49f2c545"
      },
      "execution_count": null,
      "outputs": [
        {
          "output_type": "execute_result",
          "data": {
            "text/plain": [
              "<tf.Tensor: shape=(3, 3), dtype=int32, numpy=\n",
              "array([[1, 4, 1],\n",
              "       [2, 5, 1],\n",
              "       [3, 6, 0]], dtype=int32)>"
            ]
          },
          "metadata": {},
          "execution_count": 12
        }
      ]
    },
    {
      "cell_type": "code",
      "source": [
        "#einsum method ex1\n",
        "print(\"v1: \\n\")\n",
        "print(v1.numpy())\n",
        "print(\"\\n\")\n",
        "print(\"Einsum transpose v1 =: \\n\")\n",
        "print(np.einsum('ij -> j', v1))"
      ],
      "metadata": {
        "colab": {
          "base_uri": "https://localhost:8080/"
        },
        "id": "JpNL1tT50zaE",
        "outputId": "cae5a689-4774-4038-a3fc-c69ef732f82a"
      },
      "execution_count": null,
      "outputs": [
        {
          "output_type": "stream",
          "name": "stdout",
          "text": [
            "v1: \n",
            "\n",
            "[[1 2 3]\n",
            " [4 5 6]\n",
            " [1 1 0]]\n",
            "\n",
            "\n",
            "Einsum transpose v1 =: \n",
            "\n",
            "[6 8 9]\n"
          ]
        }
      ]
    },
    {
      "cell_type": "code",
      "source": [
        "#einsum method ex2\n",
        "a = np.array([\n",
        "    [[2, 6, 5, 2],\n",
        "     [2, -2, 2, 3],\n",
        "     [1, 5, 4, 0]],\n",
        "    [[1, 3, 1, 22],\n",
        "     [0, 2, 2, 0],\n",
        "     [1, 5, 4, 1]]\n",
        "])\n",
        "b = np.array([\n",
        "    [[2, 9, 0, 3, 0],\n",
        "     [3, 6, 8, -2, 2],\n",
        "     [1, 3, 5, 0, 1],\n",
        "     [3, 0, 2, 0, 5]],\n",
        "    [[1, 0, 0, 3, 0],\n",
        "     [3, 0, 4, -2, 2],\n",
        "     [1, 0, 2, 0, 0],\n",
        "     [3, 0, 1, 1, 0]]\n",
        "])\n",
        "print(a.shape, b.shape)\n",
        "print(\"Results after batch multiplication (a*b): \\n\")\n",
        "print(np.matmul(a,b), \"\\n\")\n",
        "\n",
        "print(\"Results using Einsum (bij,bjk -> bik): \\n\")\n",
        "print(np.einsum('bij,bjk -> bik', a,b))"
      ],
      "metadata": {
        "colab": {
          "base_uri": "https://localhost:8080/"
        },
        "id": "TGncVgmp49j0",
        "outputId": "5318471e-e5e5-472e-e3fc-8897de5af241"
      },
      "execution_count": null,
      "outputs": [
        {
          "output_type": "stream",
          "name": "stdout",
          "text": [
            "(2, 3, 4) (2, 4, 5)\n",
            "Results after batch multiplication (a*b): \n",
            "\n",
            "[[[33 69 77 -6 27]\n",
            "  [ 9 12  0 10 13]\n",
            "  [21 51 60 -7 14]]\n",
            "\n",
            " [[77  0 36 19  6]\n",
            "  [ 8  0 12 -4  4]\n",
            "  [23  0 29 -6 10]]] \n",
            "\n",
            "Results using Einsum (bij,bjk -> bik): \n",
            "\n",
            "[[[33 69 77 -6 27]\n",
            "  [ 9 12  0 10 13]\n",
            "  [21 51 60 -7 14]]\n",
            "\n",
            " [[77  0 36 19  6]\n",
            "  [ 8  0 12 -4  4]\n",
            "  [23  0 29 -6 10]]]\n"
          ]
        }
      ]
    },
    {
      "cell_type": "code",
      "source": [
        "#einsum to sum up elements of a 3d tensor\n",
        "print(\"Sum a => \\n\")\n",
        "print(np.sum(a), \"\\n\")\n",
        "\n",
        "print(\"sum a using einsum => \\n\")\n",
        "print(np.einsum('bij -> ', a)) #sum of all elemnt\n",
        "print(np.einsum('bij -> bj', a)) #sum up column by column for each batch seperately"
      ],
      "metadata": {
        "colab": {
          "base_uri": "https://localhost:8080/"
        },
        "id": "Nit_Ghyf8sol",
        "outputId": "71d1b3e0-d43d-4661-ef8b-bfaeb9bac5ba"
      },
      "execution_count": null,
      "outputs": [
        {
          "output_type": "stream",
          "name": "stdout",
          "text": [
            "Sum a => \n",
            "\n",
            "72 \n",
            "\n",
            "sum a using einsum => \n",
            "\n",
            "72\n",
            "[[ 5  9 11  5]\n",
            " [ 2 10  7 23]]\n"
          ]
        }
      ]
    },
    {
      "cell_type": "code",
      "source": [
        "#einsum will use the transpose whenever it is necessary\n",
        "Q = np.random.randn(2, 4, 5)\n",
        "K = np.random.randn(2, 3, 5) #the transpose of this is needed (32, 512, 128): bmk\n",
        "np.einsum(\"bqm,bkm -> bqk\", Q,K).shape"
      ],
      "metadata": {
        "colab": {
          "base_uri": "https://localhost:8080/"
        },
        "id": "ZYFGimZUC2iy",
        "outputId": "462d95d2-209d-4580-9cc7-0ebe3ed12521"
      },
      "execution_count": null,
      "outputs": [
        {
          "output_type": "execute_result",
          "data": {
            "text/plain": [
              "(2, 4, 3)"
            ]
          },
          "metadata": {},
          "execution_count": 18
        }
      ]
    },
    {
      "cell_type": "markdown",
      "source": [
        "#8. Common tf **functions**"
      ],
      "metadata": {
        "id": "9rycyTyfK4sc"
      }
    },
    {
      "cell_type": "code",
      "source": [
        "#tf.expand_dims -> add extra dimension to the specified axis\n",
        "#tf.squeeze -> reduce dimension of the specified axis\n",
        "#the expanded dimension is always 1\n",
        "#only the dimension that is 1 or the expnded dimension can be squeeze\n",
        "#tf.reshape can do the same as squeeze and more\n",
        "\n",
        "v3 = tf.constant([[[2, 4, 6, 7]]])\n",
        "print(v3.shape)"
      ],
      "metadata": {
        "id": "ftIGoPxbK_m0"
      },
      "execution_count": null,
      "outputs": []
    },
    {
      "cell_type": "code",
      "source": [
        "v3_expanded = tf.expand_dims(v3, axis = 0)\n",
        "print(v3_expanded)\n",
        "print(v3_expanded.shape)"
      ],
      "metadata": {
        "id": "djiAn2M6Sn-B"
      },
      "execution_count": null,
      "outputs": []
    },
    {
      "cell_type": "code",
      "source": [
        "v3_squeezed = tf.squeeze(v3_expanded, axis = 0)\n",
        "print(v3_squeezed.shape)\n",
        "for i in range(2):\n",
        "  v3_squeezed = tf.squeeze(v3_squeezed, axis = 0)\n",
        "\n",
        "print(v3_squeezed)\n",
        "print(v3_squeezed.shape)"
      ],
      "metadata": {
        "id": "P2ko7lmLSqub"
      },
      "execution_count": null,
      "outputs": []
    },
    {
      "cell_type": "code",
      "source": [
        "#tf.concat -> concatenate two tensors\n",
        "#2d tensors\n",
        "a1 = tf.constant([\n",
        "    [1, 2, 3],\n",
        "    [4, 5, 6]\n",
        "])\n",
        "a2 = tf.constant([\n",
        "    [9, 0, 1],\n",
        "    [2, 3, 2]\n",
        "])\n",
        "print(a1.shape)\n",
        "print(a2.shape)\n",
        "\n",
        "tf.concat([a1, a2], axis = 0) #0 -> cocatenate them vertically"
      ],
      "metadata": {
        "id": "Q5r37Er-SuKV"
      },
      "execution_count": null,
      "outputs": []
    },
    {
      "cell_type": "code",
      "source": [
        "tf.concat([a1, a2], axis = 1) #1 -> cocatenate them horizontally"
      ],
      "metadata": {
        "id": "KN8za4kWSxPW"
      },
      "execution_count": null,
      "outputs": []
    },
    {
      "cell_type": "code",
      "source": [
        "#3d tensors\n",
        "b1 = tf.constant([\n",
        "    [[2, 6, 5, 2],\n",
        "     [2, -2, 2, 3],\n",
        "     [1, 5, 4, 0]]\n",
        "])\n",
        "b2 = tf.constant([\n",
        "    [[1, 3, 1, 22],\n",
        "     [0, 2, 2, 0],\n",
        "     [1, 5, 4, 1]]\n",
        "\n",
        "])\n",
        "print(b1.shape)\n",
        "print(b2.shape)\n",
        "tf.concat([b1, b2], axis = 0) #resulted shape: 4,3,4\n",
        "#tf.concat([b1, b2], axis = 1) #resulted shape: 2, 6, 4\n",
        "#tf.concat([b1, b2], axis = 2) #resulted shape: 2,3, 8"
      ],
      "metadata": {
        "id": "4qUMVtHfSzm6"
      },
      "execution_count": null,
      "outputs": []
    },
    {
      "cell_type": "code",
      "source": [
        "#tf.stack -> it creates new axis, the specified one\n",
        "#the shape of this new axis depends on the number of tensors\n",
        "#stacking two tensors gives the shape of two in the specified axis\n",
        "#it returns a tensor with higher dimension: 3d-> 4D\n",
        "tf.stack([b1, b2], axis = 0) #resulted shape: (2),1,3,4"
      ],
      "metadata": {
        "id": "J63dleYOS5BC"
      },
      "execution_count": null,
      "outputs": []
    },
    {
      "cell_type": "code",
      "source": [
        "tf.stack([b1, b2], axis = 1) #resulted shape: 1,(2),3,4"
      ],
      "metadata": {
        "id": "WZ3y75lkS7Zu"
      },
      "execution_count": null,
      "outputs": []
    },
    {
      "cell_type": "code",
      "source": [
        "tf.stack([b1, b2], axis = 2) #resulted shape: 1,3,(2),4"
      ],
      "metadata": {
        "id": "cy6L2Te4S9cD"
      },
      "execution_count": null,
      "outputs": []
    },
    {
      "cell_type": "code",
      "source": [
        "#print(b1)\n",
        "#print(b2)\n",
        "tf.stack([b1, b2], axis = 3) #resulted shape: 1,3,4,(2)"
      ],
      "metadata": {
        "id": "K-TXQcacS_UW"
      },
      "execution_count": null,
      "outputs": []
    },
    {
      "cell_type": "markdown",
      "source": [
        "Note1: instead of concatenating along a new axis is better to use stack:\n",
        "\n",
        "tf.concat([tf.expand_dims(t, axis) for t in tensors], axis) <=> tf.stack(tensors, axis=axis)\n",
        "\n",
        "Note2: On CPU, if an out of bound index is found, an error is returned. On GPU, if an out of bound index is found, a 0 is stored in the corresponding output value."
      ],
      "metadata": {
        "id": "WRZ6s9E5TIz2"
      }
    },
    {
      "cell_type": "code",
      "source": [
        "#this gives same result as -> tf.stack([b1,b2], axis=3)\n",
        "tf.concat([tf.expand_dims(t, axis = 3) for t in [b1,b2]], axis = 3)"
      ],
      "metadata": {
        "id": "DCD__m5_TBvi"
      },
      "execution_count": null,
      "outputs": []
    },
    {
      "cell_type": "code",
      "source": [
        "# pads a tensor with:\n",
        "# tf.pad(tensor, paddings, mode='CONSTANT', constant_values=0, name=None)\n",
        "t = tf.constant([[1, 2, 3],\n",
        "                 [4, 5, 6]])\n",
        "#surrond your tensor with the given pad\n",
        "paddings = tf.constant([[1, 1,], #1 row on top,one row below\n",
        "                        [2, 2]]) #2 cols left, 2 cols on right\n",
        "# 'constant_values' is 0.\n",
        "#tf.pad(t, paddings, \"CONSTANT\")  # [[0, 0, 0, 0, 0, 0, 0],\n",
        "                                 #  [0, 0, 1, 2, 3, 0, 0],\n",
        "                                 #  [0, 0, 4, 5, 6, 0, 0],\n",
        "                                 #  [0, 0, 0, 0, 0, 0, 0]]\n",
        "tf.pad(t, paddings, \"CONSTANT\", constant_values= 8)"
      ],
      "metadata": {
        "id": "_W_dEEyPTQ3H"
      },
      "execution_count": null,
      "outputs": []
    },
    {
      "cell_type": "code",
      "source": [
        "#tf.gather vs normal indexing\n",
        "params = tf.constant(['p0', 'p1', 'p2', 'p3', 'p4', 'p5'])\n",
        "params[1:3+1].numpy()"
      ],
      "metadata": {
        "id": "czePg4HJTSCN"
      },
      "execution_count": null,
      "outputs": []
    },
    {
      "cell_type": "code",
      "source": [
        "tf.gather(params, [1,2,3]).numpy()"
      ],
      "metadata": {
        "id": "pvlKzca1TUTB"
      },
      "execution_count": null,
      "outputs": []
    },
    {
      "cell_type": "code",
      "source": [
        "#or:\n",
        "tf.gather(params, tf.range(1,4)).numpy()"
      ],
      "metadata": {
        "id": "CXB2YSbHTWJ-"
      },
      "execution_count": null,
      "outputs": []
    },
    {
      "cell_type": "code",
      "source": [
        "#with gather function you can get any element at any position that you want:\n",
        "tf.gather(params, [0,5,3]).numpy() #[p0,p5, p3]"
      ],
      "metadata": {
        "id": "SnIeQAGQTYnZ"
      },
      "execution_count": null,
      "outputs": []
    },
    {
      "cell_type": "code",
      "source": [
        "params = tf.constant([[0, 1.0, 2.0],\n",
        "                      [10.0, 11.0, 12.0],\n",
        "                      [20.0, 21.0, 22.0],\n",
        "                      [30.0, 31.0, 32.0]])\n",
        "tf.gather(params, indices=[3,1], axis = 0).numpy()"
      ],
      "metadata": {
        "id": "KDqXlZbJTa4d"
      },
      "execution_count": null,
      "outputs": []
    },
    {
      "cell_type": "code",
      "source": [
        "tf.gather(params, indices=[2,1], axis = 1)"
      ],
      "metadata": {
        "id": "MKdf8ixgTdBZ"
      },
      "execution_count": null,
      "outputs": []
    },
    {
      "cell_type": "code",
      "source": [
        "params = tf.constant([\n",
        "                      [[0, 1.0, 2.0],\n",
        "                      [10.0, 11.0, 12.0],\n",
        "                      [20.0, 21.0, 22.0],\n",
        "                      [30.0, 31.0, 32.0]],\n",
        "\n",
        "                      [[0, 10.0, 5.0],\n",
        "                      [14.0, 1.0, 6.0],\n",
        "                      [0.0, 3.0, 90.0],\n",
        "                      [3.0, 4.0, 82.0]]\n",
        "                     ])\n",
        "print(params.shape)\n",
        "tf.gather(params, [2,0], axis = 1)"
      ],
      "metadata": {
        "id": "5KeT_RGaTe12"
      },
      "execution_count": null,
      "outputs": []
    },
    {
      "cell_type": "code",
      "source": [
        "#tf.gather_nd(params, indices, batch_dims=0, name=None)\n",
        "indices1 = [[[1,0],\n",
        "             [0, 1],\n",
        "             [0, 0],\n",
        "             [1,1]]]\n",
        "\n",
        "params1 = [[['a', 'b'],\n",
        "            ['c', 'd']],\n",
        "\n",
        "           [['e', 'f'],\n",
        "            ['g', 'h']]]\n",
        "\n",
        "indices2 = [[[1, 0],\n",
        "             [0, 1]],\n",
        "\n",
        "            [[0, 0],\n",
        "             [1, 1]]]\n",
        "\n",
        "params2 = [[['a', 'b'],\n",
        "            ['c', 'd']],\n",
        "\n",
        "           [['e', 'f'],\n",
        "            ['g', 'h']]]\n",
        "print(tf.gather_nd(params1, indices1),\"\\n\")\n",
        "print(tf.gather_nd(params2, indices2))"
      ],
      "metadata": {
        "id": "l8cqnasQTg-q"
      },
      "execution_count": null,
      "outputs": []
    },
    {
      "cell_type": "markdown",
      "source": [
        "#9. Ragged Tensors\n",
        "\n",
        "[tf.ragged](https://www.tensorflow.org/api_docs/python/tf/ragged)\n",
        "\n",
        "[RAGGED TENSORS](https://www.tensorflow.org/api_docs/python/tf/RaggedTensor)"
      ],
      "metadata": {
        "id": "WNJ1n_iqTm6Z"
      }
    },
    {
      "cell_type": "code",
      "source": [
        "#used when we have non-rectangular tensors\n",
        "nonRect_tensor = [[1, 2],\n",
        "                  [3],\n",
        "                  [4, 5, 6]]\n",
        "\n",
        "ragged_tensor = tf.ragged.constant(nonRect_tensor)\n",
        "print(ragged_tensor.shape)\n",
        "print(ragged_tensor)"
      ],
      "metadata": {
        "id": "z0mUsVXETjvt"
      },
      "execution_count": null,
      "outputs": []
    },
    {
      "cell_type": "code",
      "source": [
        "# Aliases for True & False so data and mask line up.\n",
        "T, F = (True, False)\n",
        "\n",
        "tf.ragged.boolean_mask(  # Mask a 2D Tensor.\n",
        "    data=[[1, 2, 3], [4, 5, 6], [7, 8, 9]],\n",
        "    mask=[[T, F, T], [F, F, F], [T, F, F]]).to_list()"
      ],
      "metadata": {
        "id": "0Ia6NKwATuq6"
      },
      "execution_count": null,
      "outputs": []
    },
    {
      "cell_type": "code",
      "source": [
        "tf.ragged.boolean_mask(  # Mask rows of a 2D RaggedTensor.\n",
        "    tf.ragged.constant([[1, 2, 3], [4], [5, 6]]),\n",
        "    tf.ragged.constant([True, False, True])).to_list()"
      ],
      "metadata": {
        "id": "FBJSbZikTxcO"
      },
      "execution_count": null,
      "outputs": []
    },
    {
      "cell_type": "markdown",
      "source": [
        "#10. Sparse Tensors -> efficient method to use for data with many Zeros!\n",
        "[tf.sparse](https://www.tensorflow.org/api_docs/python/tf/sparse)"
      ],
      "metadata": {
        "id": "PnrMSu5oT4rJ"
      }
    },
    {
      "cell_type": "code",
      "source": [
        "#tf.sparse.SparseTensor(indices, values, dense_shape)\n",
        "Mysparse_tensor = tf.sparse.SparseTensor(\n",
        "    indices=[[1,1],[3, 4]], values= [33, 88], dense_shape= [4, 5])\n",
        "print(Mysparse_tensor)"
      ],
      "metadata": {
        "id": "SaL4mMi8T0z4"
      },
      "execution_count": null,
      "outputs": []
    },
    {
      "cell_type": "code",
      "source": [
        "tf.sparse.to_dense(Mysparse_tensor)"
      ],
      "metadata": {
        "id": "l02ceVJBT2y0"
      },
      "execution_count": null,
      "outputs": []
    },
    {
      "cell_type": "markdown",
      "source": [
        "#11. String Tensors\n",
        "[tf.strings](https://www.tensorflow.org/api_docs/python/tf/strings)"
      ],
      "metadata": {
        "id": "NTV4PHm5ULJp"
      }
    },
    {
      "cell_type": "code",
      "source": [
        "Mystring_tensor = tf.constant([\"Hello\", \"World\", \"!\"])\n",
        "print(Mystring_tensor)"
      ],
      "metadata": {
        "id": "clY4y8zzUSJD"
      },
      "execution_count": null,
      "outputs": []
    },
    {
      "cell_type": "code",
      "source": [
        "#tf.strings.join(inputs, separator='', name=None)\n",
        "tf.strings.join(Mystring_tensor, separator='_', name=None)"
      ],
      "metadata": {
        "id": "-Bb6XKwjUZEn"
      },
      "execution_count": null,
      "outputs": []
    },
    {
      "cell_type": "markdown",
      "source": [
        "#12. Tensor Variables\n",
        "[VARIABLE](https://www.tensorflow.org/api_docs/python/tf/Variable)"
      ],
      "metadata": {
        "id": "oC_I_DAAUda_"
      }
    },
    {
      "cell_type": "code",
      "source": [
        "#tf.Variable(\n",
        "#    initial_value=None,\n",
        "#   trainable=None,\n",
        "#   validate_shape=True,\n",
        "#   caching_device=None,\n",
        "#   name=None,\n",
        "#   variable_def=None,\n",
        "#   dtype=None,\n",
        "#   import_scope=None,\n",
        "#   constraint=None,\n",
        "#   synchronization=tf.VariableSynchronization.AUTO,\n",
        "#   aggregation=tf.compat.v1.VariableAggregation.NONE,\n",
        "#   shape=None,\n",
        "#   experimental_enable_variable_lifting=True\n",
        "#)\n",
        "\n",
        "# variables can be trained if the trainable is set to true"
      ],
      "metadata": {
        "id": "WQ4x2hOFUbNz"
      },
      "execution_count": null,
      "outputs": []
    },
    {
      "cell_type": "code",
      "source": [
        "x = tf.constant([1, 2])\n",
        "x_var = tf.Variable(x, name= 'var1')\n",
        "print(x_var)"
      ],
      "metadata": {
        "id": "B5f0aTS3Ul1n"
      },
      "execution_count": null,
      "outputs": []
    },
    {
      "cell_type": "code",
      "source": [
        "#x_var.assign_sub([3, 6])\n",
        "#x_var.assign_add([3, 6])"
      ],
      "metadata": {
        "id": "RnUEs8v3Uoa7"
      },
      "execution_count": null,
      "outputs": []
    },
    {
      "cell_type": "code",
      "source": [
        "#with tf.device('GPU:0'):\n",
        "#  x_var1 = tf.Variable(0.2)\n",
        "#print(x_var1)\n",
        "#print(x_var1.device)"
      ],
      "metadata": {
        "id": "r4PiJFa0UsA0"
      },
      "execution_count": null,
      "outputs": []
    }
  ]
}